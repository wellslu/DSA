{
 "cells": [
  {
   "cell_type": "code",
   "execution_count": 1807,
   "metadata": {},
   "outputs": [],
   "source": [
    "# Definition for a binary tree node.\n",
    "class TreeNode(object):\n",
    "    def __init__(self, x):\n",
    "        self.val = x\n",
    "        self.left = None\n",
    "        self.right = None\n",
    "\n",
    "#        :type val: int\n",
    "#        :type left: TreeNode or None\n",
    "#        :type right: TreeNode or None\n",
    "       \n",
    "class Solution(object):\n",
    "    def __init__(self):\n",
    "        self.sear = None\n",
    "        self.node = None\n",
    "        self.target = None\n",
    "    def insert(self, root, val):\n",
    "        \"\"\"\n",
    "        :type root: TreeNode\n",
    "        :type val: int\n",
    "        :rtype: TreeNode(inserted node)\n",
    "        \"\"\"\n",
    "        if root.val == None:\n",
    "            root(val)\n",
    "        else:\n",
    "            if val <= root.val:\n",
    "                if root.left == None:\n",
    "                    root.left = TreeNode(val)\n",
    "                    self.node = root.left\n",
    "                else:\n",
    "                    self.insert(root.left, val)\n",
    "            else:\n",
    "                if root.right == None:\n",
    "                    root.right = TreeNode(val)\n",
    "                    self.node = root.right\n",
    "                else:\n",
    "                    self.insert(root.right, val)\n",
    "            return self.node\n",
    "    def change(self,root):\n",
    "        if root.right == None and root.left == None:\n",
    "            return None\n",
    "        elif root.right != None and root.left != None:\n",
    "            j = root.left\n",
    "            while j.right != None:\n",
    "                j = j.right\n",
    "            root.val = j.val\n",
    "            root.left = self.delete(root.left,root.val)\n",
    "            return root\n",
    "        elif root.right != None and root.left == None:\n",
    "            j = root.right\n",
    "            while j.left != None:\n",
    "                j = j.left\n",
    "            root.val = j.val\n",
    "            root.right = self.delete(root.right,root.val)\n",
    "            return root\n",
    "        elif root.right == None and root.left != None:\n",
    "            j = root.left\n",
    "            while j.right != None:\n",
    "                j = j.right\n",
    "            root.val = j.val\n",
    "            root.left = self.delete(root.left,root.val)\n",
    "            return root\n",
    "    def delete(self, root, target):\n",
    "        \"\"\"\n",
    "        :type root: TreeNode\n",
    "        :type target: int\n",
    "        :rtype: None Do not return anything, delete nodes(maybe more than more) instead.(cannot search())\n",
    "        \"\"\" \n",
    "        if self.target == None:\n",
    "            self.target = target\n",
    "        if target < root.val:\n",
    "            if root.left == None:\n",
    "                return\n",
    "            else:\n",
    "                root.left = self.delete(root.left, target)\n",
    "                return root\n",
    "        elif target > root.val:\n",
    "            if root.right == None:\n",
    "                return\n",
    "            else:\n",
    "                root.right = self.delete(root.right, target)\n",
    "                return root\n",
    "        elif root.val == target:\n",
    "            root = self.change(root)\n",
    "            if root != None and root.val == self.target:\n",
    "                root = self.change(root)\n",
    "            return root\n",
    "        \n",
    "    def search(self, root, target):\n",
    "        \"\"\"\n",
    "        :type root: TreeNode\n",
    "        :type target: int\n",
    "        :rtype: TreeNode(searched node)\n",
    "        \"\"\"\n",
    "        if target < root.val:\n",
    "            if root.left == None:\n",
    "                self.sear = None\n",
    "            else:\n",
    "                self.search(root.left, target)\n",
    "        elif target > root.val:\n",
    "            if root.right == None:\n",
    "                self.sear = None\n",
    "            else:\n",
    "                self.search(root.right, target)\n",
    "        elif target == root.val:\n",
    "            self.sear = root\n",
    "        return self.sear\n",
    "    \n",
    "    def modify(self, root, target, new_val):\n",
    "        \"\"\"\n",
    "        :type root: TreeNode\n",
    "        :type target: int\n",
    "        :type new_val: int\n",
    "        :rtype: None Do not return anything, modify nodes(maybe more than more) in-place instead.(cannot search())\n",
    "        \"\"\"\n",
    "#         j = root\n",
    "#         while j.val != target:"
   ]
  },
  {
   "cell_type": "code",
   "execution_count": 1808,
   "metadata": {},
   "outputs": [],
   "source": [
    "root=TreeNode(5)"
   ]
  },
  {
   "cell_type": "code",
   "execution_count": 1809,
   "metadata": {
    "scrolled": true
   },
   "outputs": [
    {
     "data": {
      "text/plain": [
       "<__main__.TreeNode at 0x1a8a429a550>"
      ]
     },
     "execution_count": 1809,
     "metadata": {},
     "output_type": "execute_result"
    }
   ],
   "source": [
    "Solution().insert(root,3)\n",
    "\n",
    "Solution().insert(root,8)\n",
    "\n",
    "Solution().insert(root,7)\n",
    "\n",
    "Solution().insert(root,9)\n",
    "\n",
    "Solution().insert(root,10)\n",
    "\n",
    "Solution().insert(root,6)\n",
    "\n",
    "Solution().insert(root,8)\n",
    "Solution().insert(root,7)\n",
    "# b.insert(root,4.4)\n",
    "# b.insert(root,4.7)\n",
    "# b.insert(root,4.6)"
   ]
  },
  {
   "cell_type": "code",
   "execution_count": 1810,
   "metadata": {},
   "outputs": [
    {
     "data": {
      "text/plain": [
       "<__main__.TreeNode at 0x1a8a3e15908>"
      ]
     },
     "execution_count": 1810,
     "metadata": {},
     "output_type": "execute_result"
    }
   ],
   "source": [
    "Solution().delete(root,8)"
   ]
  },
  {
   "cell_type": "code",
   "execution_count": 1811,
   "metadata": {},
   "outputs": [
    {
     "data": {
      "text/plain": [
       "7"
      ]
     },
     "execution_count": 1811,
     "metadata": {},
     "output_type": "execute_result"
    }
   ],
   "source": [
    "root.right.left.val#7"
   ]
  },
  {
   "cell_type": "code",
   "execution_count": 1812,
   "metadata": {},
   "outputs": [
    {
     "data": {
      "text/plain": [
       "<__main__.TreeNode at 0x1a8a3e15908>"
      ]
     },
     "execution_count": 1812,
     "metadata": {},
     "output_type": "execute_result"
    }
   ],
   "source": [
    "Solution().delete(root,7)"
   ]
  },
  {
   "cell_type": "code",
   "execution_count": 1813,
   "metadata": {},
   "outputs": [
    {
     "data": {
      "text/plain": [
       "6"
      ]
     },
     "execution_count": 1813,
     "metadata": {},
     "output_type": "execute_result"
    }
   ],
   "source": [
    "root.right.val#6"
   ]
  },
  {
   "cell_type": "code",
   "execution_count": 1815,
   "metadata": {},
   "outputs": [
    {
     "data": {
      "text/plain": [
       "<__main__.TreeNode at 0x1a8a429aef0>"
      ]
     },
     "execution_count": 1815,
     "metadata": {},
     "output_type": "execute_result"
    }
   ],
   "source": [
    "Solution().search(root,6)"
   ]
  },
  {
   "cell_type": "code",
   "execution_count": 189,
   "metadata": {},
   "outputs": [
    {
     "name": "stdout",
     "output_type": "stream",
     "text": [
      "None\n",
      "4\n"
     ]
    }
   ],
   "source": [
    "b.delete(root,4)"
   ]
  },
  {
   "cell_type": "code",
   "execution_count": 116,
   "metadata": {},
   "outputs": [
    {
     "name": "stdout",
     "output_type": "stream",
     "text": [
      "7\n"
     ]
    }
   ],
   "source": [
    "b.pr(root)"
   ]
  },
  {
   "cell_type": "code",
   "execution_count": 19,
   "metadata": {},
   "outputs": [],
   "source": [
    "TreeNode(3).right"
   ]
  },
  {
   "cell_type": "code",
   "execution_count": 698,
   "metadata": {
    "collapsed": true
   },
   "outputs": [
    {
     "name": "stdout",
     "output_type": "stream",
     "text": [
      "0\n",
      "1\n",
      "2\n",
      "3\n",
      "4\n",
      "5\n",
      "6\n",
      "7\n",
      "8\n",
      "9\n",
      "10\n",
      "11\n",
      "12\n",
      "13\n",
      "14\n",
      "15\n",
      "16\n",
      "17\n",
      "18\n",
      "19\n",
      "20\n",
      "21\n",
      "22\n",
      "23\n",
      "24\n",
      "25\n",
      "26\n",
      "27\n",
      "28\n",
      "29\n",
      "30\n",
      "31\n",
      "32\n",
      "33\n",
      "34\n",
      "35\n",
      "36\n",
      "37\n",
      "38\n",
      "39\n",
      "40\n",
      "41\n",
      "42\n",
      "43\n",
      "44\n",
      "45\n",
      "46\n",
      "47\n",
      "48\n",
      "49\n",
      "50\n",
      "51\n",
      "52\n",
      "53\n",
      "54\n",
      "55\n",
      "56\n",
      "57\n",
      "58\n",
      "59\n",
      "60\n",
      "61\n",
      "62\n",
      "63\n",
      "64\n",
      "65\n",
      "66\n",
      "67\n",
      "68\n",
      "69\n",
      "70\n",
      "71\n",
      "72\n",
      "73\n",
      "74\n",
      "75\n",
      "76\n",
      "77\n",
      "78\n",
      "79\n",
      "80\n",
      "81\n",
      "82\n",
      "83\n",
      "84\n",
      "85\n",
      "86\n",
      "87\n",
      "88\n",
      "89\n",
      "90\n",
      "91\n",
      "92\n",
      "93\n",
      "94\n",
      "95\n",
      "96\n",
      "97\n",
      "98\n",
      "99\n"
     ]
    }
   ],
   "source": [
    "i=0\n",
    "a=1\n",
    "while i<10 or a>0:\n",
    "    print(i)\n",
    "    i+=1\n",
    "    a-=0.01"
   ]
  },
  {
   "cell_type": "code",
   "execution_count": 777,
   "metadata": {},
   "outputs": [],
   "source": [
    "a.insert(root0, 3)"
   ]
  },
  {
   "cell_type": "code",
   "execution_count": 1009,
   "metadata": {},
   "outputs": [],
   "source": [
    "root = TreeNode(5)\n",
    "Solution().insert(root, 3)\n",
    "Solution().insert(root, 3)\n",
    "Solution().insert(root, -5)\n",
    "Solution().insert(root, 8)\n",
    "Solution().insert(root, 7)\n",
    "Solution().insert(root, 10)\n",
    "Solution().insert(root, 6)\n",
    "\n",
    "import copy\n",
    "\n",
    "root1 = copy.deepcopy(root)\n",
    "root2 = copy.deepcopy(root)\n",
    "root3 = copy.deepcopy(root)\n",
    "root4 = copy.deepcopy(root)"
   ]
  },
  {
   "cell_type": "code",
   "execution_count": 1010,
   "metadata": {},
   "outputs": [
    {
     "name": "stdout",
     "output_type": "stream",
     "text": [
      "insert\n",
      "True\n",
      "-----------------------------------\n"
     ]
    }
   ],
   "source": [
    "print('insert')\n",
    "print(Solution().insert(root1, 4) == root1.left.right)\n",
    "print('-----------------------------------')"
   ]
  },
  {
   "cell_type": "code",
   "execution_count": 1011,
   "metadata": {},
   "outputs": [
    {
     "name": "stdout",
     "output_type": "stream",
     "text": [
      "search\n",
      "True\n",
      "-----------------------------------\n"
     ]
    }
   ],
   "source": [
    "print('search')\n",
    "print(Solution().search(root3, 10) == root3.right.right)\n",
    "print('-----------------------------------')"
   ]
  },
  {
   "cell_type": "code",
   "execution_count": 1616,
   "metadata": {},
   "outputs": [
    {
     "data": {
      "text/plain": [
       "<__main__.TreeNode at 0x1a8a42d2978>"
      ]
     },
     "execution_count": 1616,
     "metadata": {},
     "output_type": "execute_result"
    }
   ],
   "source": [
    "root = TreeNode(17)\n",
    "Solution().insert(root, 10)\n",
    "Solution().insert(root, 20)\n",
    "\n",
    "Solution().insert(root, 8)\n",
    "Solution().insert(root, 13)\n",
    "\n",
    "Solution().insert(root, 4)\n",
    "Solution().insert(root, 9)\n",
    "\n",
    "Solution().insert(root, 3)\n",
    "Solution().insert(root, 4.5)\n",
    "Solution().insert(root, 8.8)\n",
    "Solution().insert(root, 9.9)\n",
    "\n",
    "Solution().insert(root, 4.4)\n",
    "Solution().insert(root, 4.7)\n",
    "Solution().insert(root, 9.5)\n",
    "Solution().insert(root, 9.99)"
   ]
  },
  {
   "cell_type": "code",
   "execution_count": null,
   "metadata": {},
   "outputs": [],
   "source": []
  }
 ],
 "metadata": {
  "kernelspec": {
   "display_name": "Python 3",
   "language": "python",
   "name": "python3"
  },
  "language_info": {
   "codemirror_mode": {
    "name": "ipython",
    "version": 3
   },
   "file_extension": ".py",
   "mimetype": "text/x-python",
   "name": "python",
   "nbconvert_exporter": "python",
   "pygments_lexer": "ipython3",
   "version": "3.7.3"
  }
 },
 "nbformat": 4,
 "nbformat_minor": 2
}
