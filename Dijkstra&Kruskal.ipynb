{
 "cells": [
  {
   "cell_type": "code",
   "execution_count": 95,
   "metadata": {},
   "outputs": [],
   "source": [
    "from collections import defaultdict \n",
    "\n",
    "#Class to represent a graph \n",
    "class Graph(): \n",
    "\n",
    "    def __init__(self, vertices): \n",
    "        self.V = vertices \n",
    "        self.graph = [] \n",
    "        self.graph_matrix = [[0 for column in range(vertices)]  \n",
    "                    for row in range(vertices)] \n",
    "        self.dict = defaultdict(list) \n",
    "    def addEdge(self,u,v,w): \n",
    "        \"\"\"\n",
    "        :type u,v,w: int\n",
    "        :rtype: None\n",
    "        \"\"\"\n",
    "        self.dict[w].append([u,v])\n",
    "    def Dijkstra(self, s): \n",
    "        \"\"\"\n",
    "        :type s: int\n",
    "        :rtype: dict\n",
    "        \"\"\"\n",
    "        answer = {}\n",
    "        for num in range(self.V):\n",
    "            final = g.graph[num]\n",
    "            for i in range(self.V):\n",
    "                for each in range(len(final)):\n",
    "                    if final[each] != 0:\n",
    "                        nextlist = g.graph[each]\n",
    "                        for deep in range(len(nextlist)):\n",
    "                            if nextlist[deep] != 0:\n",
    "                                if final[deep] == 0 or final[deep] > final[each] + nextlist[deep]:\n",
    "                                    final[deep] = final[each] + nextlist[deep]\n",
    "            self.graph[num] = final\n",
    "        \n",
    "        for i in range(self.V):\n",
    "            self.graph[i][i] = 0\n",
    "            \n",
    "        for i in range(self.V):\n",
    "            answer[str(i)] = self.graph[s][i]\n",
    "            \n",
    "        return answer\n",
    "    def Kruskal(self):\n",
    "        \"\"\"\n",
    "        :rtype: dict\n",
    "        \"\"\"\n",
    "        answer={}\n",
    "        check = [column for column in range(self.V)]  \n",
    "        val = sorted(g.dict)\n",
    "        for i in val:\n",
    "            for f,s in g.dict[i]:\n",
    "                if check[f] == check[s]:\n",
    "                    pass\n",
    "                else:\n",
    "                    check = [check[f] if x==check[s] else x for x in check]\n",
    "                    answer[str(f)+'-'+str(s)] = i\n",
    "        return answer"
   ]
  },
  {
   "cell_type": "code",
   "execution_count": 97,
   "metadata": {},
   "outputs": [
    {
     "name": "stdout",
     "output_type": "stream",
     "text": [
      "Dijkstra {'0': 0, '1': 4, '2': 12, '3': 19, '4': 21, '5': 11, '6': 9, '7': 8, '8': 14}\n",
      "Kruskal {'2-3': 4, '0-3': 5, '0-1': 10}\n"
     ]
    }
   ],
   "source": [
    "g = Graph(9)\n",
    "g.graph = [[0,4,0,0,0,0,0,8,0],\n",
    "          [4,0,8,0,0,0,0,11,0],\n",
    "          [0,8,0,7,0,4,0,0,2],\n",
    "          [0,0,7,0,9,14,0,0,0],\n",
    "          [0,0,0,9,0,10,0,0,0],\n",
    "          [0,0,4,14,10,0,2,0,0],\n",
    "          [0,0,0,0,0,2,0,1,6],\n",
    "          [8,11,0,0,0,0,1,0,7],\n",
    "          [0,0,2,0,0,0,6,7,0]]\n",
    "\n",
    "print('Dijkstra',g.Dijkstra(0))\n",
    "\n",
    "g = Graph(4)\n",
    "g.addEdge(0,1,10)\n",
    "g.addEdge(0,2,6)\n",
    "g.addEdge(0,3,5)\n",
    "g.addEdge(1,3,15)\n",
    "g.addEdge(2,3,4)\n",
    "print('Kruskal',g.Kruskal())"
   ]
  }
 ],
 "metadata": {
  "kernelspec": {
   "display_name": "Python 3",
   "language": "python",
   "name": "python3"
  },
  "language_info": {
   "codemirror_mode": {
    "name": "ipython",
    "version": 3
   },
   "file_extension": ".py",
   "mimetype": "text/x-python",
   "name": "python",
   "nbconvert_exporter": "python",
   "pygments_lexer": "ipython3",
   "version": "3.7.3"
  }
 },
 "nbformat": 4,
 "nbformat_minor": 2
}
