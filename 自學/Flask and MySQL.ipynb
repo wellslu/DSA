{
 "cells": [
  {
   "cell_type": "code",
   "execution_count": 1,
   "metadata": {},
   "outputs": [],
   "source": [
    "import requests\n",
    "import flask\n",
    "import flask_restful\n",
    "import MySQLdb\n",
    "import random\n",
    "from flask import Flask, request\n",
    "from flask import render_template"
   ]
  },
  {
   "cell_type": "code",
   "execution_count": null,
   "metadata": {},
   "outputs": [],
   "source": [
    "import pandas as pd\n",
    "df = pd.DataFrame({'a':[4,5],\n",
    "                  'b':['He','She']})\n",
    "\n",
    "from sqlalchemy import create_engine\n",
    "engine = create_engine(\"mysql+pymysql://{}:{}@{}/{}\".format('root', '', '127.0.0.1:3306', 'wellslu'))\n",
    "con = engine.connect()\n",
    "df.to_sql(name='test', con=con, if_exists='append', index=False)\n"
   ]
  },
  {
   "cell_type": "code",
   "execution_count": 4,
   "metadata": {},
   "outputs": [
    {
     "name": "stdout",
     "output_type": "stream",
     "text": [
      "(1, 'I')\n",
      "(2, 'You')\n",
      "(3, 'We')\n",
      "(4, 'He')\n",
      "(5, 'She')\n",
      "(4, 'He')\n",
      "(5, 'She')\n",
      "(4, 'He')\n",
      "(5, 'She')\n",
      "(4, 'He')\n",
      "(5, 'She')\n"
     ]
    }
   ],
   "source": [
    "db = MySQLdb.connect(\"127.0.0.1\", \"root\", \"\", \"wellslu\", charset='utf8' )\n",
    "cursor = db.cursor()\n",
    "\n",
    "cursor.execute('''SELECT * FROM test''')\n",
    "results = cursor.fetchall()\n",
    "\n",
    "for row in results:\n",
    "    a = row[0]\n",
    "    b = row[1]\n",
    "    print(row)\n",
    "\n",
    "db.close()"
   ]
  },
  {
   "cell_type": "code",
   "execution_count": null,
   "metadata": {},
   "outputs": [],
   "source": []
  },
  {
   "cell_type": "code",
   "execution_count": null,
   "metadata": {},
   "outputs": [
    {
     "name": "stdout",
     "output_type": "stream",
     "text": [
      " * Serving Flask app \"__main__\" (lazy loading)\n",
      " * Environment: production\n",
      "   WARNING: Do not use the development server in a production environment.\n",
      "   Use a production WSGI server instead.\n",
      " * Debug mode: off\n"
     ]
    },
    {
     "name": "stderr",
     "output_type": "stream",
     "text": [
      " * Running on http://127.0.0.1:5000/ (Press CTRL+C to quit)\n"
     ]
    }
   ],
   "source": [
    "KEY_FILE_LOCATION = '' \n",
    "VIEW_ID = ''\n",
    "ACCOUNTID = ''\n",
    "WEBPROPERTYID = ''\n",
    "item = ''\n",
    "app = Flask(__name__)\n",
    "@app.route('/test')\n",
    "def index():\n",
    "    global item,KEY_FILE_LOCATION,VIEW_ID,ACCOUNTID,WEBPROPERTYID\n",
    "    KEY_FILE_LOCATION = request.args['json']\n",
    "    item = request.args.get('itemid')\n",
    "    VIEW_ID = request.args['viewid']\n",
    "    ACCOUNTID = request.args['accountid']\n",
    "    WEBPROPERTYID = request.args['webpropertyid']\n",
    "    return KEY_FILE_LOCATION+' '+VIEW_ID+' '+ACCOUNTID+' '+WEBPROPERTYID+' '+item\n",
    "if __name__ == '__main__':\n",
    "        app.run(debug=False)"
   ]
  },
  {
   "cell_type": "code",
   "execution_count": null,
   "metadata": {},
   "outputs": [],
   "source": []
  }
 ],
 "metadata": {
  "kernelspec": {
   "display_name": "Python 3",
   "language": "python",
   "name": "python3"
  },
  "language_info": {
   "codemirror_mode": {
    "name": "ipython",
    "version": 3
   },
   "file_extension": ".py",
   "mimetype": "text/x-python",
   "name": "python",
   "nbconvert_exporter": "python",
   "pygments_lexer": "ipython3",
   "version": "3.7.3"
  }
 },
 "nbformat": 4,
 "nbformat_minor": 2
}
