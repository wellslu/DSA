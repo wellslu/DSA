{
 "cells": [
  {
   "cell_type": "code",
   "execution_count": 1,
   "metadata": {},
   "outputs": [],
   "source": [
    "from apiclient.discovery import build\n",
    "from oauth2client.service_account import ServiceAccountCredentials\n",
    "\n",
    "SCOPES = ['https://www.googleapis.com/auth/analytics.readonly']\n",
    "KEY_FILE_LOCATION = 'go-url-1044-213d62415432.json' #API金鑰\n",
    "VIEW_ID = '110032918' #Google Analytics 資料檢視層ID\n",
    "\n",
    "def get_service():\n",
    "    \"\"\"Get a service that communicates to a Google API.\n",
    "\n",
    "    Args:\n",
    "        api_name: The name of the api to connect to.\n",
    "        api_version: The api version to connect to.\n",
    "        scopes: A list auth scopes to authorize for the application.\n",
    "        key_file_location: The path to a valid service account JSON key file.\n",
    "\n",
    "    Returns:\n",
    "        A service that is connected to the specified API.\n",
    "    \"\"\"\n",
    "\n",
    "    credentials = ServiceAccountCredentials.from_json_keyfile_name(\n",
    "            KEY_FILE_LOCATION, SCOPES)\n",
    "\n",
    "    # Build the service object.\n",
    "    service = build('analytics', 'v3', credentials=credentials)\n",
    "\n",
    "    return service\n",
    "service = get_service()"
   ]
  },
  {
   "cell_type": "code",
   "execution_count": 7,
   "metadata": {},
   "outputs": [],
   "source": [
    "try:\n",
    "    a=service.data().realtime().get(\n",
    "    ids='ga:' + VIEW_ID,\n",
    "    metrics='rt:activeUsers',\n",
    "    dimensions='rt:medium').execute()\n",
    "\n",
    "except TypeError as error:\n",
    "  # Handle errors in constructing a query.\n",
    "    print ('There was an error in constructing your query : %s' % error)\n",
    "\n",
    "except HttpError as error:\n",
    "  # Handle API errors.\n",
    "    print ('Arg, there was an API error : %s : %s' %\n",
    "        (error.resp.status, error._get_reason()))"
   ]
  },
  {
   "cell_type": "code",
   "execution_count": 8,
   "metadata": {},
   "outputs": [
    {
     "data": {
      "text/plain": [
       "{'kind': 'analytics#realtimeData',\n",
       " 'id': 'https://www.googleapis.com/analytics/v3/data/realtime?ids=ga:110032918&dimensions=rt:medium&metrics=rt:activeUsers',\n",
       " 'query': {'ids': 'ga:110032918',\n",
       "  'dimensions': 'rt:medium',\n",
       "  'metrics': ['rt:activeUsers'],\n",
       "  'max-results': 1000},\n",
       " 'totalResults': 2,\n",
       " 'selfLink': 'https://www.googleapis.com/analytics/v3/data/realtime?ids=ga:110032918&dimensions=rt:medium&metrics=rt:activeUsers',\n",
       " 'profileInfo': {'profileId': '110032918',\n",
       "  'accountId': '68833467',\n",
       "  'webPropertyId': 'UA-68833467-1',\n",
       "  'internalWebPropertyId': '105721505',\n",
       "  'profileName': '所有網站資料',\n",
       "  'tableId': 'realtime:110032918'},\n",
       " 'columnHeaders': [{'name': 'rt:medium',\n",
       "   'columnType': 'DIMENSION',\n",
       "   'dataType': 'STRING'},\n",
       "  {'name': 'rt:activeUsers', 'columnType': 'METRIC', 'dataType': 'INTEGER'}],\n",
       " 'totalsForAllResults': {'rt:activeUsers': '4'},\n",
       " 'rows': [['(none)', '1'], ['ORGANIC', '3']]}"
      ]
     },
     "execution_count": 8,
     "metadata": {},
     "output_type": "execute_result"
    }
   ],
   "source": [
    "a"
   ]
  },
  {
   "cell_type": "code",
   "execution_count": null,
   "metadata": {},
   "outputs": [],
   "source": []
  }
 ],
 "metadata": {
  "kernelspec": {
   "display_name": "Python 3",
   "language": "python",
   "name": "python3"
  },
  "language_info": {
   "codemirror_mode": {
    "name": "ipython",
    "version": 3
   },
   "file_extension": ".py",
   "mimetype": "text/x-python",
   "name": "python",
   "nbconvert_exporter": "python",
   "pygments_lexer": "ipython3",
   "version": "3.7.3"
  }
 },
 "nbformat": 4,
 "nbformat_minor": 2
}
