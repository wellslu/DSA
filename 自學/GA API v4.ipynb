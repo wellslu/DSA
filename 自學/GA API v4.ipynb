{
 "cells": [
  {
   "cell_type": "code",
   "execution_count": 39,
   "metadata": {},
   "outputs": [],
   "source": [
    "from apiclient.discovery import build\n",
    "from oauth2client.service_account import ServiceAccountCredentials\n",
    "\n",
    "\n",
    "SCOPES = ['https://www.googleapis.com/auth/analytics.readonly']\n",
    "KEY_FILE_LOCATION = 'go-url-1044-213d62415432.json' #API金鑰\n",
    "VIEW_ID = '110032918' #Google Analytics 資料檢視層ID\n",
    "\n",
    "\n",
    "\n",
    "\n",
    "# Reporting API初始化與授權\n",
    "\n",
    "def initialize_analyticsreporting():\n",
    " \n",
    "    credentials = ServiceAccountCredentials.from_json_keyfile_name(\n",
    "        KEY_FILE_LOCATION, SCOPES)\n",
    "\n",
    "  # Build the service object.\n",
    "    analytics = build('analyticsreporting', 'v4', credentials=credentials)\n",
    "\n",
    "    return analytics\n"
   ]
  },
  {
   "cell_type": "code",
   "execution_count": 40,
   "metadata": {},
   "outputs": [],
   "source": [
    "analytics = initialize_analyticsreporting()"
   ]
  },
  {
   "cell_type": "code",
   "execution_count": 41,
   "metadata": {},
   "outputs": [],
   "source": [
    "#抓資料\n",
    "def get_report(analytics):\n",
    "  \n",
    "  \n",
    "    return analytics.reports().batchGet(\n",
    "        body={\n",
    "        'reportRequests': [\n",
    "            {\n",
    "                'viewId': VIEW_ID,\n",
    "                'dateRanges': [{'startDate': '2019-10-01', 'endDate': '2019-10-31'}],\n",
    "                'metrics': [{'expression': 'ga:totalEvents'}],\n",
    "                'dimensions': [{\"name\": \"ga:pagePath\"}],\n",
    "                'orderBys': [{\"fieldName\": \"ga:totalEvents\", \"sortOrder\": \"DESCENDING\"}],\n",
    "                \"dimensionFilterClauses\": [{\n",
    "                   \"filters\": [{\n",
    "                    \"dimension_name\": \"ga:eventCategory\",\n",
    "                    \"operator\": \"PARTIAL\",\n",
    "                    \"expressions\": [\"Scroll Depth\"]\n",
    "                                }]\n",
    "                                          }],\n",
    "                'pageSize': 3\n",
    "            }]\n",
    "    }\n",
    "  ).execute()"
   ]
  },
  {
   "cell_type": "code",
   "execution_count": 42,
   "metadata": {},
   "outputs": [
    {
     "data": {
      "text/plain": [
       "{'reports': [{'columnHeader': {'dimensions': ['ga:pagePath'],\n",
       "    'metricHeader': {'metricHeaderEntries': [{'name': 'ga:totalEvents',\n",
       "       'type': 'INTEGER'}]}},\n",
       "   'data': {'rows': [{'dimensions': ['/?p=3501'],\n",
       "      'metrics': [{'values': ['3138']}]},\n",
       "     {'dimensions': ['/'], 'metrics': [{'values': ['2253']}]},\n",
       "     {'dimensions': ['/?p=2149'], 'metrics': [{'values': ['2093']}]}],\n",
       "    'totals': [{'values': ['45357']}],\n",
       "    'rowCount': 689,\n",
       "    'minimums': [{'values': ['1']}],\n",
       "    'maximums': [{'values': ['3138']}],\n",
       "    'isDataGolden': True},\n",
       "   'nextPageToken': '3'}]}"
      ]
     },
     "execution_count": 42,
     "metadata": {},
     "output_type": "execute_result"
    }
   ],
   "source": [
    "get_report(analytics)"
   ]
  },
  {
   "cell_type": "code",
   "execution_count": 43,
   "metadata": {},
   "outputs": [],
   "source": [
    "res=get_report(analytics)"
   ]
  },
  {
   "cell_type": "code",
   "execution_count": 57,
   "metadata": {},
   "outputs": [],
   "source": [
    "path=[]\n",
    "for i in res['reports'][0]['data']['rows']:\n",
    "    path.append(i['dimensions'][0])"
   ]
  },
  {
   "cell_type": "code",
   "execution_count": 66,
   "metadata": {},
   "outputs": [],
   "source": [
    "def get_report(analytics):\n",
    "  \n",
    "  \n",
    "    return analytics.reports().batchGet(\n",
    "        body={\n",
    "        'reportRequests': [\n",
    "            {\n",
    "                'viewId': VIEW_ID,\n",
    "                'dateRanges': [{'startDate': '2019-10-01', 'endDate': '2019-10-31'}],\n",
    "                'metrics': [{'expression': 'ga:pageviews'}],\n",
    "                'dimensions': [{\"name\": \"ga:pagePath\"},{'name':\"ga:sourceMedium\"}],\n",
    "                'orderBys': [{\"fieldName\": \"ga:pageviews\", \"sortOrder\": \"DESCENDING\"}],\n",
    "                \"dimensionFilterClauses\": [{\n",
    "                   \"filters\": [{\n",
    "                    \"dimension_name\": \"ga:pagePath\",\n",
    "                    \"operator\": \"IN_LIST\",\n",
    "                    \"expressions\": path\n",
    "                                }]\n",
    "                                          }],\n",
    "                #'pageSize': 3\n",
    "            }]\n",
    "    }\n",
    "  ).execute()"
   ]
  },
  {
   "cell_type": "code",
   "execution_count": 67,
   "metadata": {},
   "outputs": [
    {
     "data": {
      "text/plain": [
       "['/?p=3501', '/', '/?p=2149']"
      ]
     },
     "execution_count": 67,
     "metadata": {},
     "output_type": "execute_result"
    }
   ],
   "source": [
    "path"
   ]
  },
  {
   "cell_type": "code",
   "execution_count": 68,
   "metadata": {
    "collapsed": true
   },
   "outputs": [
    {
     "data": {
      "text/plain": [
       "{'reports': [{'columnHeader': {'dimensions': ['ga:pagePath',\n",
       "     'ga:sourceMedium'],\n",
       "    'metricHeader': {'metricHeaderEntries': [{'name': 'ga:pageviews',\n",
       "       'type': 'INTEGER'}]}},\n",
       "   'data': {'rows': [{'dimensions': ['/?p=3501', 'google / organic'],\n",
       "      'metrics': [{'values': ['1301']}]},\n",
       "     {'dimensions': ['/?p=2149', 'yahoo / organic'],\n",
       "      'metrics': [{'values': ['540']}]},\n",
       "     {'dimensions': ['/', '(direct) / (none)'],\n",
       "      'metrics': [{'values': ['483']}]},\n",
       "     {'dimensions': ['/', 'facebook.com / referral'],\n",
       "      'metrics': [{'values': ['410']}]},\n",
       "     {'dimensions': ['/?p=2149', '(direct) / (none)'],\n",
       "      'metrics': [{'values': ['375']}]},\n",
       "     {'dimensions': ['/', 'google / organic'],\n",
       "      'metrics': [{'values': ['331']}]},\n",
       "     {'dimensions': ['/?p=2149', 'tw.search.yahoo.com / referral'],\n",
       "      'metrics': [{'values': ['286']}]},\n",
       "     {'dimensions': ['/?p=2149', 'google / organic'],\n",
       "      'metrics': [{'values': ['84']}]},\n",
       "     {'dimensions': ['/', 'l.facebook.com / referral'],\n",
       "      'metrics': [{'values': ['66']}]},\n",
       "     {'dimensions': ['/', 'm.facebook.com / referral'],\n",
       "      'metrics': [{'values': ['63']}]},\n",
       "     {'dimensions': ['/?p=3501', '(direct) / (none)'],\n",
       "      'metrics': [{'values': ['63']}]},\n",
       "     {'dimensions': ['/', '319papago.idv.tw / referral'],\n",
       "      'metrics': [{'values': ['23']}]},\n",
       "     {'dimensions': ['/?p=3501', 'yahoo / organic'],\n",
       "      'metrics': [{'values': ['22']}]},\n",
       "     {'dimensions': ['/?p=2149', 'bing / organic'],\n",
       "      'metrics': [{'values': ['11']}]},\n",
       "     {'dimensions': ['/?p=2149', 'facebook.com / referral'],\n",
       "      'metrics': [{'values': ['11']}]},\n",
       "     {'dimensions': ['/', 'baidu.com / referral'],\n",
       "      'metrics': [{'values': ['8']}]},\n",
       "     {'dimensions': ['/', 'bing / organic'], 'metrics': [{'values': ['7']}]},\n",
       "     {'dimensions': ['/?p=3501', 'facebook.com / referral'],\n",
       "      'metrics': [{'values': ['6']}]},\n",
       "     {'dimensions': ['/?p=2149', 'm.facebook.com / referral'],\n",
       "      'metrics': [{'values': ['5']}]},\n",
       "     {'dimensions': ['/', 'yahoo / organic'], 'metrics': [{'values': ['4']}]},\n",
       "     {'dimensions': ['/?p=2149', 'hk.search.yahoo.com / referral'],\n",
       "      'metrics': [{'values': ['4']}]},\n",
       "     {'dimensions': ['/?p=3501', 'm.facebook.com / referral'],\n",
       "      'metrics': [{'values': ['4']}]},\n",
       "     {'dimensions': ['/?p=2149', 'babylon / organic'],\n",
       "      'metrics': [{'values': ['2']}]},\n",
       "     {'dimensions': ['/?p=2149', 'ecosia.org / organic'],\n",
       "      'metrics': [{'values': ['2']}]},\n",
       "     {'dimensions': ['/?p=3501', 'tw.search.yahoo.com / referral'],\n",
       "      'metrics': [{'values': ['2']}]},\n",
       "     {'dimensions': ['/', 'l.instagram.com / referral'],\n",
       "      'metrics': [{'values': ['1']}]},\n",
       "     {'dimensions': ['/', 'lm.facebook.com / referral'],\n",
       "      'metrics': [{'values': ['1']}]},\n",
       "     {'dimensions': ['/', 'matomete.net / referral'],\n",
       "      'metrics': [{'values': ['1']}]},\n",
       "     {'dimensions': ['/?p=2149', 'l.facebook.com / referral'],\n",
       "      'metrics': [{'values': ['1']}]},\n",
       "     {'dimensions': ['/?p=2149', 'opti-page.com / referral'],\n",
       "      'metrics': [{'values': ['1']}]},\n",
       "     {'dimensions': ['/?p=2149', 'search.avira.com / referral'],\n",
       "      'metrics': [{'values': ['1']}]}],\n",
       "    'totals': [{'values': ['4119']}],\n",
       "    'rowCount': 31,\n",
       "    'minimums': [{'values': ['1']}],\n",
       "    'maximums': [{'values': ['1301']}],\n",
       "    'isDataGolden': True}}]}"
      ]
     },
     "execution_count": 68,
     "metadata": {},
     "output_type": "execute_result"
    }
   ],
   "source": [
    "get_report(analytics)"
   ]
  },
  {
   "cell_type": "code",
   "execution_count": 69,
   "metadata": {},
   "outputs": [],
   "source": [
    "res=get_report(analytics)"
   ]
  },
  {
   "cell_type": "code",
   "execution_count": 72,
   "metadata": {},
   "outputs": [],
   "source": [
    "import json\n",
    "\n",
    "\n",
    "new_json = json.dumps(res)\n"
   ]
  },
  {
   "cell_type": "code",
   "execution_count": 73,
   "metadata": {
    "collapsed": true
   },
   "outputs": [
    {
     "data": {
      "text/plain": [
       "'{\"reports\": [{\"columnHeader\": {\"dimensions\": [\"ga:pagePath\", \"ga:sourceMedium\"], \"metricHeader\": {\"metricHeaderEntries\": [{\"name\": \"ga:pageviews\", \"type\": \"INTEGER\"}]}}, \"data\": {\"rows\": [{\"dimensions\": [\"/?p=3501\", \"google / organic\"], \"metrics\": [{\"values\": [\"1301\"]}]}, {\"dimensions\": [\"/?p=2149\", \"yahoo / organic\"], \"metrics\": [{\"values\": [\"540\"]}]}, {\"dimensions\": [\"/\", \"(direct) / (none)\"], \"metrics\": [{\"values\": [\"483\"]}]}, {\"dimensions\": [\"/\", \"facebook.com / referral\"], \"metrics\": [{\"values\": [\"410\"]}]}, {\"dimensions\": [\"/?p=2149\", \"(direct) / (none)\"], \"metrics\": [{\"values\": [\"375\"]}]}, {\"dimensions\": [\"/\", \"google / organic\"], \"metrics\": [{\"values\": [\"331\"]}]}, {\"dimensions\": [\"/?p=2149\", \"tw.search.yahoo.com / referral\"], \"metrics\": [{\"values\": [\"286\"]}]}, {\"dimensions\": [\"/?p=2149\", \"google / organic\"], \"metrics\": [{\"values\": [\"84\"]}]}, {\"dimensions\": [\"/\", \"l.facebook.com / referral\"], \"metrics\": [{\"values\": [\"66\"]}]}, {\"dimensions\": [\"/\", \"m.facebook.com / referral\"], \"metrics\": [{\"values\": [\"63\"]}]}, {\"dimensions\": [\"/?p=3501\", \"(direct) / (none)\"], \"metrics\": [{\"values\": [\"63\"]}]}, {\"dimensions\": [\"/\", \"319papago.idv.tw / referral\"], \"metrics\": [{\"values\": [\"23\"]}]}, {\"dimensions\": [\"/?p=3501\", \"yahoo / organic\"], \"metrics\": [{\"values\": [\"22\"]}]}, {\"dimensions\": [\"/?p=2149\", \"bing / organic\"], \"metrics\": [{\"values\": [\"11\"]}]}, {\"dimensions\": [\"/?p=2149\", \"facebook.com / referral\"], \"metrics\": [{\"values\": [\"11\"]}]}, {\"dimensions\": [\"/\", \"baidu.com / referral\"], \"metrics\": [{\"values\": [\"8\"]}]}, {\"dimensions\": [\"/\", \"bing / organic\"], \"metrics\": [{\"values\": [\"7\"]}]}, {\"dimensions\": [\"/?p=3501\", \"facebook.com / referral\"], \"metrics\": [{\"values\": [\"6\"]}]}, {\"dimensions\": [\"/?p=2149\", \"m.facebook.com / referral\"], \"metrics\": [{\"values\": [\"5\"]}]}, {\"dimensions\": [\"/\", \"yahoo / organic\"], \"metrics\": [{\"values\": [\"4\"]}]}, {\"dimensions\": [\"/?p=2149\", \"hk.search.yahoo.com / referral\"], \"metrics\": [{\"values\": [\"4\"]}]}, {\"dimensions\": [\"/?p=3501\", \"m.facebook.com / referral\"], \"metrics\": [{\"values\": [\"4\"]}]}, {\"dimensions\": [\"/?p=2149\", \"babylon / organic\"], \"metrics\": [{\"values\": [\"2\"]}]}, {\"dimensions\": [\"/?p=2149\", \"ecosia.org / organic\"], \"metrics\": [{\"values\": [\"2\"]}]}, {\"dimensions\": [\"/?p=3501\", \"tw.search.yahoo.com / referral\"], \"metrics\": [{\"values\": [\"2\"]}]}, {\"dimensions\": [\"/\", \"l.instagram.com / referral\"], \"metrics\": [{\"values\": [\"1\"]}]}, {\"dimensions\": [\"/\", \"lm.facebook.com / referral\"], \"metrics\": [{\"values\": [\"1\"]}]}, {\"dimensions\": [\"/\", \"matomete.net / referral\"], \"metrics\": [{\"values\": [\"1\"]}]}, {\"dimensions\": [\"/?p=2149\", \"l.facebook.com / referral\"], \"metrics\": [{\"values\": [\"1\"]}]}, {\"dimensions\": [\"/?p=2149\", \"opti-page.com / referral\"], \"metrics\": [{\"values\": [\"1\"]}]}, {\"dimensions\": [\"/?p=2149\", \"search.avira.com / referral\"], \"metrics\": [{\"values\": [\"1\"]}]}], \"totals\": [{\"values\": [\"4119\"]}], \"rowCount\": 31, \"minimums\": [{\"values\": [\"1\"]}], \"maximums\": [{\"values\": [\"1301\"]}], \"isDataGolden\": true}}]}'"
      ]
     },
     "execution_count": 73,
     "metadata": {},
     "output_type": "execute_result"
    }
   ],
   "source": [
    "new_json"
   ]
  },
  {
   "cell_type": "code",
   "execution_count": 70,
   "metadata": {},
   "outputs": [],
   "source": [
    "def print_response(response):\n",
    "    \n",
    "    \n",
    "  \n",
    "    for report in response.get('reports', []): #將上述reports回應的內容取回並做為for迴圈基底\n",
    "        columnHeader = report.get('columnHeader', {}) \n",
    "        dimensionHeaders = columnHeader.get('dimensions', [])\n",
    "        metricHeaders = columnHeader.get('metricHeader', {}).get('metricHeaderEntries', [])\n",
    "\n",
    "    for row in report.get('data', {}).get('rows', []):\n",
    "        dimensions = row.get('dimensions', [])\n",
    "        dateRangeValues = row.get('metrics', [])\n",
    "\n",
    "    for header, dimension in zip(dimensionHeaders, dimensions):\n",
    "        cities.append(dimension)\n",
    "        print (header + ': ' + dimension)\n",
    "        \n",
    "\n",
    "    for i, values in enumerate(dateRangeValues):\n",
    "        \n",
    "        for metricHeader, value in zip(metricHeaders, values.get('values')):\n",
    "            val.append(int(value))\n",
    "            print (metricHeader.get('name') + ': ' + value)   "
   ]
  },
  {
   "cell_type": "code",
   "execution_count": 71,
   "metadata": {},
   "outputs": [
    {
     "name": "stdout",
     "output_type": "stream",
     "text": [
      "ga:pagePath: /?p=2149\n",
      "ga:sourceMedium: search.avira.com / referral\n",
      "ga:pageviews: 1\n"
     ]
    }
   ],
   "source": [
    "print_response(res)"
   ]
  },
  {
   "cell_type": "code",
   "execution_count": 31,
   "metadata": {},
   "outputs": [
    {
     "data": {
      "text/plain": [
       "{'reports': [{'columnHeader': {'dimensions': ['ga:country'],\n",
       "    'metricHeader': {'metricHeaderEntries': [{'name': 'ga:sessions',\n",
       "       'type': 'INTEGER'}]}},\n",
       "   'data': {'rows': [{'dimensions': ['Taiwan'],\n",
       "      'metrics': [{'values': ['8']}]}],\n",
       "    'totals': [{'values': ['8']}],\n",
       "    'rowCount': 1,\n",
       "    'minimums': [{'values': ['8']}],\n",
       "    'maximums': [{'values': ['8']}]}}]}"
      ]
     },
     "execution_count": 31,
     "metadata": {},
     "output_type": "execute_result"
    }
   ],
   "source": [
    "res"
   ]
  },
  {
   "cell_type": "code",
   "execution_count": 24,
   "metadata": {},
   "outputs": [
    {
     "data": {
      "text/plain": [
       "[{'columnHeader': {'dimensions': ['ga:country'],\n",
       "   'metricHeader': {'metricHeaderEntries': [{'name': 'ga:sessions',\n",
       "      'type': 'INTEGER'}]}},\n",
       "  'data': {'rows': [{'dimensions': ['Taiwan'],\n",
       "     'metrics': [{'values': ['8']}]}],\n",
       "   'totals': [{'values': ['8']}],\n",
       "   'rowCount': 1,\n",
       "   'minimums': [{'values': ['8']}],\n",
       "   'maximums': [{'values': ['8']}]}}]"
      ]
     },
     "execution_count": 24,
     "metadata": {},
     "output_type": "execute_result"
    }
   ],
   "source": [
    "res.get('reports', [])"
   ]
  },
  {
   "cell_type": "code",
   "execution_count": 26,
   "metadata": {},
   "outputs": [
    {
     "data": {
      "text/plain": [
       "[{'name': 'ga:sessions', 'type': 'INTEGER'}]"
      ]
     },
     "execution_count": 26,
     "metadata": {},
     "output_type": "execute_result"
    }
   ],
   "source": [
    "a.get('columnHeader', {}).get('metricHeader', {}).get('metricHeaderEntries', [])"
   ]
  },
  {
   "cell_type": "code",
   "execution_count": null,
   "metadata": {},
   "outputs": [],
   "source": []
  }
 ],
 "metadata": {
  "kernelspec": {
   "display_name": "Python 3",
   "language": "python",
   "name": "python3"
  },
  "language_info": {
   "codemirror_mode": {
    "name": "ipython",
    "version": 3
   },
   "file_extension": ".py",
   "mimetype": "text/x-python",
   "name": "python",
   "nbconvert_exporter": "python",
   "pygments_lexer": "ipython3",
   "version": "3.7.3"
  }
 },
 "nbformat": 4,
 "nbformat_minor": 2
}
