{
 "cells": [
  {
   "cell_type": "code",
   "execution_count": 88,
   "metadata": {},
   "outputs": [],
   "source": [
    "# Definition for a binary tree node.\n",
    "class TreeNode(object):\n",
    "    def __init__(self, x):\n",
    "        self.val = x\n",
    "        self.left = None\n",
    "        self.right = None\n",
    "\n",
    "#        :type val: int\n",
    "#        :type left: TreeNode or None\n",
    "#        :type right: TreeNode or None\n",
    "       \n",
    "class Solution(object):\n",
    "    def __init__(self):\n",
    "        self.sear = None\n",
    "        self.node = None\n",
    "        self.target = None\n",
    "    def insert(self, root, val):\n",
    "        \"\"\"\n",
    "        :type root: TreeNode\n",
    "        :type val: int\n",
    "        :rtype: TreeNode(inserted node)\n",
    "        \"\"\"\n",
    "        if root.val == None:\n",
    "            root(val)\n",
    "        else:\n",
    "            if val <= root.val:\n",
    "                if root.left == None:\n",
    "                    root.left = TreeNode(val)\n",
    "                    self.node = root.left\n",
    "                else:\n",
    "                    self.insert(root.left, val)\n",
    "            else:\n",
    "                if root.right == None:\n",
    "                    root.right = TreeNode(val)\n",
    "                    self.node = root.right\n",
    "                else:\n",
    "                    self.insert(root.right, val)\n",
    "            return self.node\n",
    "    def change(self,root):\n",
    "        if root.right == None and root.left == None:\n",
    "            return None\n",
    "        elif root.right != None and root.left != None:\n",
    "            j = root.left\n",
    "            while j.right != None:\n",
    "                j = j.right\n",
    "            root.val = j.val\n",
    "            root.left = self.delete(root.left,root.val)\n",
    "            return root\n",
    "        elif root.right != None and root.left == None:\n",
    "            j = root.right\n",
    "            while j.left != None:\n",
    "                j = j.left\n",
    "            root.val = j.val\n",
    "            root.right = self.delete(root.right,root.val)\n",
    "            return root\n",
    "        elif root.right == None and root.left != None:\n",
    "            j = root.left\n",
    "            while j.right != None:\n",
    "                j = j.right\n",
    "            root.val = j.val\n",
    "            root.left = self.delete(root.left,root.val)\n",
    "            return root\n",
    "    def delete(self, root, target):\n",
    "        \"\"\"\n",
    "        :type root: TreeNode\n",
    "        :type target: int\n",
    "        :rtype: None Do not return anything, delete nodes(maybe more than more) instead.(cannot search())\n",
    "        \"\"\" \n",
    "        if self.target == None:\n",
    "            self.target = target\n",
    "        if target < root.val:\n",
    "            if root.left == None:\n",
    "                return\n",
    "            else:\n",
    "                root.left = self.delete(root.left, target)\n",
    "                return root\n",
    "        elif target > root.val:\n",
    "            if root.right == None:\n",
    "                return\n",
    "            else:\n",
    "                root.right = self.delete(root.right, target)\n",
    "                return root\n",
    "        elif root.val == target:\n",
    "            root = self.change(root)\n",
    "            if root != None and root.val == self.target:\n",
    "                root = self.change(root)\n",
    "            return root\n",
    "        \n",
    "    def search(self, root, target):\n",
    "        \"\"\"\n",
    "        :type root: TreeNode\n",
    "        :type target: int\n",
    "        :rtype: TreeNode(searched node)\n",
    "        \"\"\"\n",
    "        if target < root.val:\n",
    "            if root.left == None:\n",
    "                self.sear = None\n",
    "            else:\n",
    "                self.search(root.left, target)\n",
    "        elif target > root.val:\n",
    "            if root.right == None:\n",
    "                self.sear = None\n",
    "            else:\n",
    "                self.search(root.right, target)\n",
    "        elif target == root.val:\n",
    "            self.sear = root\n",
    "        return self.sear\n",
    "    def modify(self, root, target, new_val):\n",
    "        \"\"\"\n",
    "        :type root: TreeNode\n",
    "        :type target: int\n",
    "        :type new_val: int\n",
    "        :rtype: None Do not return anything, modify nodes(maybe more than more) in-place instead.(cannot search())\n",
    "        \"\"\""
   ]
  },
  {
   "cell_type": "code",
   "execution_count": 89,
   "metadata": {},
   "outputs": [
    {
     "data": {
      "text/plain": [
       "<__main__.TreeNode at 0x188f62a3470>"
      ]
     },
     "execution_count": 89,
     "metadata": {},
     "output_type": "execute_result"
    }
   ],
   "source": [
    "root=TreeNode(5)\n",
    "Solution().insert(root,3)\n",
    "\n",
    "Solution().insert(root,8)\n",
    "\n",
    "Solution().insert(root,7)\n",
    "\n",
    "Solution().insert(root,9)\n",
    "\n",
    "Solution().insert(root,10)\n",
    "\n",
    "Solution().insert(root,6)\n",
    "\n",
    "Solution().insert(root,8)\n",
    "Solution().insert(root,7)"
   ]
  },
  {
   "cell_type": "code",
   "execution_count": 90,
   "metadata": {},
   "outputs": [
    {
     "data": {
      "text/plain": [
       "5"
      ]
     },
     "execution_count": 90,
     "metadata": {},
     "output_type": "execute_result"
    }
   ],
   "source": [
    "Solution().tree_high(root,1)"
   ]
  },
  {
   "cell_type": "code",
   "execution_count": 91,
   "metadata": {},
   "outputs": [],
   "source": [
    "Solution().modify(root,3,7)"
   ]
  },
  {
   "cell_type": "code",
   "execution_count": 92,
   "metadata": {},
   "outputs": [
    {
     "data": {
      "text/plain": [
       "6"
      ]
     },
     "execution_count": 92,
     "metadata": {},
     "output_type": "execute_result"
    }
   ],
   "source": [
    "Solution().tree_high(root,1)"
   ]
  },
  {
   "cell_type": "code",
   "execution_count": 51,
   "metadata": {},
   "outputs": [
    {
     "data": {
      "text/plain": [
       "<__main__.TreeNode at 0x188f626a7f0>"
      ]
     },
     "execution_count": 51,
     "metadata": {},
     "output_type": "execute_result"
    }
   ],
   "source": [
    "Solution().delete(root,8)"
   ]
  },
  {
   "cell_type": "code",
   "execution_count": 52,
   "metadata": {},
   "outputs": [
    {
     "data": {
      "text/plain": [
       "7"
      ]
     },
     "execution_count": 52,
     "metadata": {},
     "output_type": "execute_result"
    }
   ],
   "source": [
    "root.right.left.val#7"
   ]
  },
  {
   "cell_type": "code",
   "execution_count": 53,
   "metadata": {},
   "outputs": [
    {
     "data": {
      "text/plain": [
       "6"
      ]
     },
     "execution_count": 53,
     "metadata": {},
     "output_type": "execute_result"
    }
   ],
   "source": [
    "root.right.left.left.val#6"
   ]
  },
  {
   "cell_type": "code",
   "execution_count": 54,
   "metadata": {},
   "outputs": [
    {
     "data": {
      "text/plain": [
       "8"
      ]
     },
     "execution_count": 54,
     "metadata": {},
     "output_type": "execute_result"
    }
   ],
   "source": [
    "root.right.val"
   ]
  },
  {
   "cell_type": "code",
   "execution_count": 61,
   "metadata": {},
   "outputs": [
    {
     "data": {
      "text/plain": [
       "<__main__.TreeNode at 0x188f62638d0>"
      ]
     },
     "execution_count": 61,
     "metadata": {},
     "output_type": "execute_result"
    }
   ],
   "source": [
    "Solution().delete(root,7)"
   ]
  },
  {
   "cell_type": "code",
   "execution_count": 62,
   "metadata": {},
   "outputs": [
    {
     "data": {
      "text/plain": [
       "8"
      ]
     },
     "execution_count": 62,
     "metadata": {},
     "output_type": "execute_result"
    }
   ],
   "source": [
    "root.right.val#6"
   ]
  },
  {
   "cell_type": "code",
   "execution_count": 63,
   "metadata": {},
   "outputs": [
    {
     "data": {
      "text/plain": [
       "7"
      ]
     },
     "execution_count": 63,
     "metadata": {},
     "output_type": "execute_result"
    }
   ],
   "source": [
    "root.right.left.val#None"
   ]
  },
  {
   "cell_type": "code",
   "execution_count": null,
   "metadata": {},
   "outputs": [],
   "source": []
  }
 ],
 "metadata": {
  "kernelspec": {
   "display_name": "Python 3",
   "language": "python",
   "name": "python3"
  },
  "language_info": {
   "codemirror_mode": {
    "name": "ipython",
    "version": 3
   },
   "file_extension": ".py",
   "mimetype": "text/x-python",
   "name": "python",
   "nbconvert_exporter": "python",
   "pygments_lexer": "ipython3",
   "version": "3.7.3"
  }
 },
 "nbformat": 4,
 "nbformat_minor": 2
}
