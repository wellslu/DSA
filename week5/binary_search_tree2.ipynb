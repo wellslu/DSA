{
 "cells": [
  {
   "cell_type": "code",
   "execution_count": 1,
   "metadata": {},
   "outputs": [],
   "source": [
    "# Definition for a binary tree node.\n",
    "class TreeNode(object):\n",
    "    def __init__(self, x):\n",
    "        self.val = x\n",
    "        self.left = None\n",
    "        self.right = None\n",
    "\n",
    "#        :type val: int\n",
    "#        :type left: TreeNode or None\n",
    "#        :type right: TreeNode or None\n",
    "       \n",
    "class Solution(object):\n",
    "    def __init__(self):\n",
    "        self.sear = None\n",
    "        self.node = None\n",
    "        self.target = None\n",
    "        self.count = 0\n",
    "        self.tree = 0\n",
    "        self.r=0\n",
    "        self.l=0\n",
    "    def insert(self, root, val):\n",
    "        \"\"\"\n",
    "        :type root: TreeNode\n",
    "        :type val: int\n",
    "        :rtype: TreeNode(inserted node)\n",
    "        \"\"\"\n",
    "        if root.val == None:\n",
    "            root(val)\n",
    "        else:\n",
    "            if val <= root.val:\n",
    "                if root.left == None:\n",
    "                    root.left = TreeNode(val)\n",
    "                    self.node = root.left\n",
    "                else:\n",
    "                    self.insert(root.left, val)\n",
    "            else:\n",
    "                if root.right == None:\n",
    "                    root.right = TreeNode(val)\n",
    "                    self.node = root.right\n",
    "                else:\n",
    "                    self.insert(root.right, val)\n",
    "            return self.node\n",
    "    def change(self,root):\n",
    "        if root.right == None and root.left == None:\n",
    "            return None\n",
    "        elif root.right != None and root.left != None:\n",
    "            j = root.left\n",
    "            while j.right != None:\n",
    "                j = j.right\n",
    "            root.val = j.val\n",
    "            root.left = self.delete(root.left,root.val)\n",
    "            return root\n",
    "        elif root.right != None and root.left == None:\n",
    "            j = root.right\n",
    "            while j.left != None:\n",
    "                j = j.left\n",
    "            root.val = j.val\n",
    "            root.right = self.delete(root.right,root.val)\n",
    "            return root\n",
    "        elif root.right == None and root.left != None:\n",
    "            j = root.left\n",
    "            while j.right != None:\n",
    "                j = j.right\n",
    "            root.val = j.val\n",
    "            root.left = self.delete(root.left,root.val)\n",
    "            return root\n",
    "    def delete(self, root, target):\n",
    "        \"\"\"\n",
    "        :type root: TreeNode\n",
    "        :type target: int\n",
    "        :rtype: None Do not return anything, delete nodes(maybe more than more) instead.(cannot search())\n",
    "        \"\"\" \n",
    "        if self.target == None:\n",
    "            self.target = target\n",
    "        if target < root.val:\n",
    "            if root.left == None:\n",
    "                return\n",
    "            else:\n",
    "                root.left = self.delete(root.left, target)\n",
    "                return root\n",
    "        elif target > root.val:\n",
    "            if root.right == None:\n",
    "                return\n",
    "            else:\n",
    "                root.right = self.delete(root.right, target)\n",
    "                return root\n",
    "        elif root.val == target:\n",
    "            root = self.change(root)\n",
    "            if root != None and root.val == self.target:\n",
    "                root = self.change(root)\n",
    "            return root\n",
    "        \n",
    "    def search(self, root, target):\n",
    "        \"\"\"\n",
    "        :type root: TreeNode\n",
    "        :type target: int\n",
    "        :rtype: TreeNode(searched node)\n",
    "        \"\"\"\n",
    "        if target < root.val:\n",
    "            if root.left == None:\n",
    "                self.sear = None\n",
    "            else:\n",
    "                self.search(root.left, target)\n",
    "        elif target > root.val:\n",
    "            if root.right == None:\n",
    "                self.sear = None\n",
    "            else:\n",
    "                self.search(root.right, target)\n",
    "        elif target == root.val:\n",
    "            self.sear = root\n",
    "        return self.sear\n",
    "    \n",
    "    def count_target(self, root, target):\n",
    "        while root != None:\n",
    "            if root.val == target:\n",
    "                self.count+=1\n",
    "                root = root.left\n",
    "            elif root.val < target:\n",
    "                root = root.right\n",
    "            elif root.val > target:\n",
    "                root = root.left\n",
    "    def tree_high(self, root, high):\n",
    "        if root.right != None:\n",
    "            self.r = high + 1\n",
    "            self.r = self.tree_high(root.right, self.r)\n",
    "        if root.left != None:\n",
    "            self.l = high + 1\n",
    "            self.l = self.tree_high(root.left, self.l)\n",
    "        if self.l >= self.r:\n",
    "            return self.l\n",
    "        elif self.l<self.r:\n",
    "            return self.r\n",
    "    def modify(self, root, target, new_val):\n",
    "        \"\"\"\n",
    "        :type root: TreeNode\n",
    "        :type target: int\n",
    "        :type new_val: int\n",
    "        :rtype: None Do not return anything, modify nodes(maybe more than more) in-place instead.(cannot search())\n",
    "        \"\"\"\n",
    "        if root.left == None and root.right == None:\n",
    "            self.tree = 1\n",
    "        else:\n",
    "            self.tree = self.tree_high(root, 1)\n",
    "        self.count_target(root,target)\n",
    "        if self.count == 0:\n",
    "            return\n",
    "        self.delete(root,target)\n",
    "        self.node = self.insert(root, new_val)\n",
    "        if self.tree_high(root, 1) <= self.tree:\n",
    "            pass\n",
    "#         else:\n",
    "#             if root.val >= new_val:\n",
    "#             else:\n",
    "        self.count = self.count - 1\n",
    "        if self.count > 0:\n",
    "            self.modify(root, target, new_val)\n",
    "        return self.node"
   ]
  },
  {
   "cell_type": "code",
   "execution_count": 323,
   "metadata": {},
   "outputs": [
    {
     "data": {
      "text/plain": [
       "<__main__.TreeNode at 0x24070f6a550>"
      ]
     },
     "execution_count": 323,
     "metadata": {},
     "output_type": "execute_result"
    }
   ],
   "source": [
    "Solution().modify(root,3,7)"
   ]
  },
  {
   "cell_type": "code",
   "execution_count": 245,
   "metadata": {},
   "outputs": [],
   "source": [
    "x = root\n",
    "root = x.right\n",
    "x.right = root.left\n",
    "root.left = x"
   ]
  },
  {
   "cell_type": "code",
   "execution_count": 325,
   "metadata": {},
   "outputs": [
    {
     "data": {
      "text/plain": [
       "5"
      ]
     },
     "execution_count": 325,
     "metadata": {},
     "output_type": "execute_result"
    }
   ],
   "source": [
    "root.val"
   ]
  },
  {
   "cell_type": "code",
   "execution_count": 5,
   "metadata": {},
   "outputs": [],
   "source": [
    "root=TreeNode(5)"
   ]
  },
  {
   "cell_type": "code",
   "execution_count": 6,
   "metadata": {
    "scrolled": true
   },
   "outputs": [
    {
     "data": {
      "text/plain": [
       "<__main__.TreeNode at 0x1d2c581ef28>"
      ]
     },
     "execution_count": 6,
     "metadata": {},
     "output_type": "execute_result"
    }
   ],
   "source": [
    "Solution().insert(root,3)\n",
    "\n",
    "Solution().insert(root,8)\n",
    "\n",
    "Solution().insert(root,7)\n",
    "\n",
    "Solution().insert(root,9)\n",
    "\n",
    "Solution().insert(root,10)\n",
    "\n",
    "Solution().insert(root,6)\n",
    "\n",
    "Solution().insert(root,8)\n",
    "Solution().insert(root,7)\n",
    "# b.insert(root,4.4)\n",
    "# b.insert(root,4.7)\n",
    "# b.insert(root,4.6)"
   ]
  },
  {
   "cell_type": "code",
   "execution_count": 7,
   "metadata": {},
   "outputs": [
    {
     "data": {
      "text/plain": [
       "5"
      ]
     },
     "execution_count": 7,
     "metadata": {},
     "output_type": "execute_result"
    }
   ],
   "source": [
    "root.val"
   ]
  },
  {
   "cell_type": "code",
   "execution_count": 8,
   "metadata": {},
   "outputs": [
    {
     "data": {
      "text/plain": [
       "<__main__.TreeNode at 0x1d2c57d7898>"
      ]
     },
     "execution_count": 8,
     "metadata": {},
     "output_type": "execute_result"
    }
   ],
   "source": [
    "Solution().delete(root,8)"
   ]
  },
  {
   "cell_type": "code",
   "execution_count": 9,
   "metadata": {},
   "outputs": [
    {
     "data": {
      "text/plain": [
       "7"
      ]
     },
     "execution_count": 9,
     "metadata": {},
     "output_type": "execute_result"
    }
   ],
   "source": [
    "root.right.left.val#7"
   ]
  },
  {
   "cell_type": "code",
   "execution_count": 10,
   "metadata": {},
   "outputs": [
    {
     "data": {
      "text/plain": [
       "6"
      ]
     },
     "execution_count": 10,
     "metadata": {},
     "output_type": "execute_result"
    }
   ],
   "source": [
    "root.right.left.left.val#6"
   ]
  },
  {
   "cell_type": "code",
   "execution_count": 145,
   "metadata": {},
   "outputs": [
    {
     "data": {
      "text/plain": [
       "<__main__.TreeNode at 0x24070bee0b8>"
      ]
     },
     "execution_count": 145,
     "metadata": {},
     "output_type": "execute_result"
    }
   ],
   "source": [
    "Solution().delete(root,7)"
   ]
  },
  {
   "cell_type": "code",
   "execution_count": 146,
   "metadata": {},
   "outputs": [
    {
     "data": {
      "text/plain": [
       "6"
      ]
     },
     "execution_count": 146,
     "metadata": {},
     "output_type": "execute_result"
    }
   ],
   "source": [
    "root.right.val#6"
   ]
  },
  {
   "cell_type": "code",
   "execution_count": 147,
   "metadata": {},
   "outputs": [],
   "source": [
    "root.right.left#None"
   ]
  },
  {
   "cell_type": "code",
   "execution_count": 148,
   "metadata": {},
   "outputs": [
    {
     "data": {
      "text/plain": [
       "<__main__.TreeNode at 0x24070f6a470>"
      ]
     },
     "execution_count": 148,
     "metadata": {},
     "output_type": "execute_result"
    }
   ],
   "source": [
    "Solution().search(root,6)"
   ]
  },
  {
   "cell_type": "code",
   "execution_count": 189,
   "metadata": {},
   "outputs": [
    {
     "name": "stdout",
     "output_type": "stream",
     "text": [
      "None\n",
      "4\n"
     ]
    }
   ],
   "source": [
    "b.delete(root,4)"
   ]
  },
  {
   "cell_type": "code",
   "execution_count": 116,
   "metadata": {},
   "outputs": [
    {
     "name": "stdout",
     "output_type": "stream",
     "text": [
      "7\n"
     ]
    }
   ],
   "source": [
    "b.pr(root)"
   ]
  },
  {
   "cell_type": "code",
   "execution_count": 19,
   "metadata": {},
   "outputs": [],
   "source": [
    "TreeNode(3).right"
   ]
  },
  {
   "cell_type": "code",
   "execution_count": 698,
   "metadata": {
    "collapsed": true
   },
   "outputs": [
    {
     "name": "stdout",
     "output_type": "stream",
     "text": [
      "0\n",
      "1\n",
      "2\n",
      "3\n",
      "4\n",
      "5\n",
      "6\n",
      "7\n",
      "8\n",
      "9\n",
      "10\n",
      "11\n",
      "12\n",
      "13\n",
      "14\n",
      "15\n",
      "16\n",
      "17\n",
      "18\n",
      "19\n",
      "20\n",
      "21\n",
      "22\n",
      "23\n",
      "24\n",
      "25\n",
      "26\n",
      "27\n",
      "28\n",
      "29\n",
      "30\n",
      "31\n",
      "32\n",
      "33\n",
      "34\n",
      "35\n",
      "36\n",
      "37\n",
      "38\n",
      "39\n",
      "40\n",
      "41\n",
      "42\n",
      "43\n",
      "44\n",
      "45\n",
      "46\n",
      "47\n",
      "48\n",
      "49\n",
      "50\n",
      "51\n",
      "52\n",
      "53\n",
      "54\n",
      "55\n",
      "56\n",
      "57\n",
      "58\n",
      "59\n",
      "60\n",
      "61\n",
      "62\n",
      "63\n",
      "64\n",
      "65\n",
      "66\n",
      "67\n",
      "68\n",
      "69\n",
      "70\n",
      "71\n",
      "72\n",
      "73\n",
      "74\n",
      "75\n",
      "76\n",
      "77\n",
      "78\n",
      "79\n",
      "80\n",
      "81\n",
      "82\n",
      "83\n",
      "84\n",
      "85\n",
      "86\n",
      "87\n",
      "88\n",
      "89\n",
      "90\n",
      "91\n",
      "92\n",
      "93\n",
      "94\n",
      "95\n",
      "96\n",
      "97\n",
      "98\n",
      "99\n"
     ]
    }
   ],
   "source": [
    "i=0\n",
    "a=1\n",
    "while i<10 or a>0:\n",
    "    print(i)\n",
    "    i+=1\n",
    "    a-=0.01"
   ]
  },
  {
   "cell_type": "code",
   "execution_count": 777,
   "metadata": {},
   "outputs": [],
   "source": [
    "a.insert(root0, 3)"
   ]
  },
  {
   "cell_type": "code",
   "execution_count": 81,
   "metadata": {},
   "outputs": [],
   "source": [
    "root = TreeNode(5)\n",
    "Solution().insert(root, 3)\n",
    "Solution().insert(root, 3)\n",
    "Solution().insert(root, -5)\n",
    "Solution().insert(root, 8)\n",
    "Solution().insert(root, 7)\n",
    "Solution().insert(root, 10)\n",
    "Solution().insert(root, 6)\n",
    "\n",
    "import copy\n",
    "\n",
    "root1 = copy.deepcopy(root)\n",
    "root2 = copy.deepcopy(root)\n",
    "root3 = copy.deepcopy(root)\n",
    "root4 = copy.deepcopy(root)"
   ]
  },
  {
   "cell_type": "code",
   "execution_count": 82,
   "metadata": {},
   "outputs": [
    {
     "name": "stdout",
     "output_type": "stream",
     "text": [
      "insert\n",
      "True\n",
      "-----------------------------------\n"
     ]
    }
   ],
   "source": [
    "print('insert')\n",
    "print(Solution().insert(root1, 4) == root1.left.right)\n",
    "print('-----------------------------------')"
   ]
  },
  {
   "cell_type": "code",
   "execution_count": 83,
   "metadata": {},
   "outputs": [
    {
     "name": "stdout",
     "output_type": "stream",
     "text": [
      "search\n",
      "True\n",
      "-----------------------------------\n"
     ]
    }
   ],
   "source": [
    "print('search')\n",
    "print(Solution().search(root3, 10) == root3.right.right)\n",
    "print('-----------------------------------')"
   ]
  },
  {
   "cell_type": "code",
   "execution_count": 84,
   "metadata": {},
   "outputs": [
    {
     "data": {
      "text/plain": [
       "<__main__.TreeNode at 0x24070bd7748>"
      ]
     },
     "execution_count": 84,
     "metadata": {},
     "output_type": "execute_result"
    }
   ],
   "source": [
    "root = TreeNode(17)\n",
    "Solution().insert(root, 10)\n",
    "Solution().insert(root, 20)\n",
    "\n",
    "Solution().insert(root, 8)\n",
    "Solution().insert(root, 13)\n",
    "\n",
    "Solution().insert(root, 4)\n",
    "Solution().insert(root, 9)\n",
    "\n",
    "Solution().insert(root, 3)\n",
    "Solution().insert(root, 4.5)\n",
    "Solution().insert(root, 8.8)\n",
    "Solution().insert(root, 9.9)\n",
    "\n",
    "Solution().insert(root, 4.4)\n",
    "Solution().insert(root, 4.7)\n",
    "Solution().insert(root, 9.5)\n",
    "Solution().insert(root, 9.99)"
   ]
  },
  {
   "cell_type": "code",
   "execution_count": null,
   "metadata": {},
   "outputs": [],
   "source": []
  }
 ],
 "metadata": {
  "kernelspec": {
   "display_name": "Python 3",
   "language": "python",
   "name": "python3"
  },
  "language_info": {
   "codemirror_mode": {
    "name": "ipython",
    "version": 3
   },
   "file_extension": ".py",
   "mimetype": "text/x-python",
   "name": "python",
   "nbconvert_exporter": "python",
   "pygments_lexer": "ipython3",
   "version": "3.7.3"
  }
 },
 "nbformat": 4,
 "nbformat_minor": 2
}
