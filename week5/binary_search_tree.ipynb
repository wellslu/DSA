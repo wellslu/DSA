{
 "cells": [
  {
   "cell_type": "code",
   "execution_count": 75,
   "metadata": {},
   "outputs": [],
   "source": [
    "# Definition for a binary tree node.\n",
    "class TreeNode(object):\n",
    "    def __init__(self, x):\n",
    "        self.val = x\n",
    "        self.left = None\n",
    "        self.right = None\n",
    "\n",
    "#        :type val: int\n",
    "#        :type left: TreeNode or None\n",
    "#        :type right: TreeNode or None\n",
    "       \n",
    "class Solution(object):\n",
    "    def __init__(self):\n",
    "        self.sear = None\n",
    "        self.node = None\n",
    "        self.target = None\n",
    "        self.count = 0\n",
    "        self.tree = 0\n",
    "        self.r=0\n",
    "        self.l=0\n",
    "        self.list = []\n",
    "    def insert(self, root, val):\n",
    "        \"\"\"\n",
    "        :type root: TreeNode\n",
    "        :type val: int\n",
    "        :rtype: TreeNode(inserted node)\n",
    "        \"\"\"\n",
    "        if root.val == None:\n",
    "            root(val)\n",
    "        else:\n",
    "            if val <= root.val:\n",
    "                if root.left == None:\n",
    "                    root.left = TreeNode(val)\n",
    "                    self.node = root.left\n",
    "                else:\n",
    "                    self.insert(root.left, val)\n",
    "            else:\n",
    "                if root.right == None:\n",
    "                    root.right = TreeNode(val)\n",
    "                    self.node = root.right\n",
    "                else:\n",
    "                    self.insert(root.right, val)\n",
    "            return self.node\n",
    "    def change(self,root):\n",
    "        if root.right == None and root.left == None:\n",
    "            return None\n",
    "        elif root.right != None and root.left != None:\n",
    "            j = root.left\n",
    "            while j.right != None:\n",
    "                j = j.right\n",
    "            root.val = j.val\n",
    "            root.left = self.delete(root.left,root.val)\n",
    "            return root\n",
    "        elif root.right != None and root.left == None:\n",
    "            j = root.right\n",
    "            while j.left != None:\n",
    "                j = j.left\n",
    "            root.val = j.val\n",
    "            root.right = self.delete(root.right,root.val)\n",
    "            return root\n",
    "        elif root.right == None and root.left != None:\n",
    "            j = root.left\n",
    "            while j.right != None:\n",
    "                j = j.right\n",
    "            root.val = j.val\n",
    "            root.left = self.delete(root.left,root.val)\n",
    "            return root\n",
    "    def delete(self, root, target):\n",
    "        \"\"\"\n",
    "        :type root: TreeNode\n",
    "        :type target: int\n",
    "        :rtype: None Do not return anything, delete nodes(maybe more than more) instead.(cannot search())\n",
    "        \"\"\" \n",
    "        if self.target == None:\n",
    "            self.target = target\n",
    "        if target < root.val:\n",
    "            if root.left == None:\n",
    "                return\n",
    "            else:\n",
    "                root.left = self.delete(root.left, target)\n",
    "                return root\n",
    "        elif target > root.val:\n",
    "            if root.right == None:\n",
    "                return\n",
    "            else:\n",
    "                root.right = self.delete(root.right, target)\n",
    "                return root\n",
    "        elif root.val == target:\n",
    "            root = self.change(root)\n",
    "            if root != None and root.val == self.target:\n",
    "                root = self.change(root)\n",
    "            return root\n",
    "        \n",
    "    def search(self, root, target):\n",
    "        \"\"\"\n",
    "        :type root: TreeNode\n",
    "        :type target: int\n",
    "        :rtype: TreeNode(searched node)\n",
    "        \"\"\"\n",
    "        if target < root.val:\n",
    "            if root.left == None:\n",
    "                self.sear = None\n",
    "            else:\n",
    "                self.search(root.left, target)\n",
    "        elif target > root.val:\n",
    "            if root.right == None:\n",
    "                self.sear = None\n",
    "            else:\n",
    "                self.search(root.right, target)\n",
    "        elif target == root.val:\n",
    "            self.sear = root\n",
    "        return self.sear\n",
    "    def tree_high(self, root, high):\n",
    "        if root.right != None:\n",
    "            self.r = high + 1\n",
    "            self.r = self.tree_high(root.right, self.r)\n",
    "        if root.left != None:\n",
    "            self.l = high + 1\n",
    "            self.l = self.tree_high(root.left, self.l)\n",
    "        if self.l >= self.r:\n",
    "            return self.l\n",
    "        elif self.l<self.r:\n",
    "            return self.r\n",
    "    def modify(self, root, target, new_val):\n",
    "        \"\"\"\n",
    "        :type root: TreeNode\n",
    "        :type target: int\n",
    "        :type new_val: int\n",
    "        :rtype: None Do not return anything, modify nodes(maybe more than more) in-place instead.(cannot search())\n",
    "        \"\"\"\n",
    "        if root.left == None and root.right == None:\n",
    "            self.tree = 1\n",
    "        else:\n",
    "            self.tree = self.tree_high(root, 1)\n",
    "        self.allnum(root)\n",
    "        self.count = self.list.count(target)\n",
    "        self.list = []\n",
    "        self.delete(root,target)\n",
    "        for i in range(self.count):\n",
    "            self.insert(root,new_val)\n",
    "        if self.tree >= self.tree_high(root, 1):\n",
    "            return root\n",
    "        else:\n",
    "            self.allnum(root)\n",
    "            self.list.sort()\n",
    "            first = self.list[len(self.list)//2]\n",
    "            self.list.remove(first)\n",
    "            new_root = TreeNode(first)\n",
    "            greater = []\n",
    "            less = []\n",
    "            for i in self.list:\n",
    "                if i > first:\n",
    "                    greater.append(i)\n",
    "                else:\n",
    "                    less.append(i)\n",
    "            self.mid(new_root,greater)\n",
    "            self.mid(new_root,less)\n",
    "            return new_root\n",
    "    def mid(self,new_root,num):\n",
    "        node = num[len(num)//2]\n",
    "        num.remove(node)\n",
    "        self.insert(new_root,node)\n",
    "        greater = []\n",
    "        less = []\n",
    "        for i in num:\n",
    "            if i > node:\n",
    "                greater.append(i)\n",
    "            else:\n",
    "                less.append(i)\n",
    "        if len(greater)>0:\n",
    "            self.mid(new_root,greater)\n",
    "        if len(less)>0:\n",
    "            self.mid(new_root,less)\n",
    "            \n",
    "    def allnum(self,root):\n",
    "        self.list.append(root.val)\n",
    "        if root.left != None:\n",
    "            self.allnum(root.left)\n",
    "        if root.right != None:\n",
    "            self.allnum(root.right)"
   ]
  },
  {
   "cell_type": "code",
   "execution_count": 76,
   "metadata": {},
   "outputs": [
    {
     "data": {
      "text/plain": [
       "<__main__.TreeNode at 0x207e0c387f0>"
      ]
     },
     "execution_count": 76,
     "metadata": {},
     "output_type": "execute_result"
    }
   ],
   "source": [
    "root=TreeNode(5)\n",
    "Solution().insert(root,3)\n",
    "\n",
    "Solution().insert(root,8)\n",
    "\n",
    "Solution().insert(root,7)\n",
    "\n",
    "Solution().insert(root,9)\n",
    "\n",
    "Solution().insert(root,10)\n",
    "\n",
    "Solution().insert(root,6)\n",
    "\n",
    "Solution().insert(root,8)\n",
    "Solution().insert(root,7)"
   ]
  },
  {
   "cell_type": "code",
   "execution_count": 77,
   "metadata": {},
   "outputs": [
    {
     "data": {
      "text/plain": [
       "5"
      ]
     },
     "execution_count": 77,
     "metadata": {},
     "output_type": "execute_result"
    }
   ],
   "source": [
    "Solution().tree_high(root,1)"
   ]
  },
  {
   "cell_type": "code",
   "execution_count": 78,
   "metadata": {},
   "outputs": [
    {
     "name": "stdout",
     "output_type": "stream",
     "text": [
      "1\n"
     ]
    }
   ],
   "source": [
    "root = Solution().modify(root,3,7)"
   ]
  },
  {
   "cell_type": "code",
   "execution_count": 68,
   "metadata": {},
   "outputs": [
    {
     "data": {
      "text/plain": [
       "4"
      ]
     },
     "execution_count": 68,
     "metadata": {},
     "output_type": "execute_result"
    }
   ],
   "source": [
    "Solution().tree_high(root,1)"
   ]
  },
  {
   "cell_type": "code",
   "execution_count": 70,
   "metadata": {},
   "outputs": [
    {
     "data": {
      "text/plain": [
       "9"
      ]
     },
     "execution_count": 70,
     "metadata": {},
     "output_type": "execute_result"
    }
   ],
   "source": [
    "root.right.val"
   ]
  },
  {
   "cell_type": "code",
   "execution_count": 51,
   "metadata": {},
   "outputs": [
    {
     "data": {
      "text/plain": [
       "<__main__.TreeNode at 0x188f626a7f0>"
      ]
     },
     "execution_count": 51,
     "metadata": {},
     "output_type": "execute_result"
    }
   ],
   "source": [
    "Solution().delete(root,8)"
   ]
  },
  {
   "cell_type": "code",
   "execution_count": 52,
   "metadata": {},
   "outputs": [
    {
     "data": {
      "text/plain": [
       "7"
      ]
     },
     "execution_count": 52,
     "metadata": {},
     "output_type": "execute_result"
    }
   ],
   "source": [
    "root.right.left.val#7"
   ]
  },
  {
   "cell_type": "code",
   "execution_count": 53,
   "metadata": {},
   "outputs": [
    {
     "data": {
      "text/plain": [
       "6"
      ]
     },
     "execution_count": 53,
     "metadata": {},
     "output_type": "execute_result"
    }
   ],
   "source": [
    "root.right.left.left.val#6"
   ]
  },
  {
   "cell_type": "code",
   "execution_count": 54,
   "metadata": {},
   "outputs": [
    {
     "data": {
      "text/plain": [
       "8"
      ]
     },
     "execution_count": 54,
     "metadata": {},
     "output_type": "execute_result"
    }
   ],
   "source": [
    "root.right.val"
   ]
  },
  {
   "cell_type": "code",
   "execution_count": 61,
   "metadata": {},
   "outputs": [
    {
     "data": {
      "text/plain": [
       "<__main__.TreeNode at 0x188f62638d0>"
      ]
     },
     "execution_count": 61,
     "metadata": {},
     "output_type": "execute_result"
    }
   ],
   "source": [
    "Solution().delete(root,7)"
   ]
  },
  {
   "cell_type": "code",
   "execution_count": 62,
   "metadata": {},
   "outputs": [
    {
     "data": {
      "text/plain": [
       "8"
      ]
     },
     "execution_count": 62,
     "metadata": {},
     "output_type": "execute_result"
    }
   ],
   "source": [
    "root.right.val#6"
   ]
  },
  {
   "cell_type": "code",
   "execution_count": 63,
   "metadata": {},
   "outputs": [
    {
     "data": {
      "text/plain": [
       "7"
      ]
     },
     "execution_count": 63,
     "metadata": {},
     "output_type": "execute_result"
    }
   ],
   "source": [
    "root.right.left.val#None"
   ]
  },
  {
   "cell_type": "code",
   "execution_count": 7,
   "metadata": {},
   "outputs": [],
   "source": [
    "a.remove(2)"
   ]
  },
  {
   "cell_type": "code",
   "execution_count": 8,
   "metadata": {},
   "outputs": [
    {
     "data": {
      "text/plain": [
       "[1, 2, 3]"
      ]
     },
     "execution_count": 8,
     "metadata": {},
     "output_type": "execute_result"
    }
   ],
   "source": [
    "a"
   ]
  },
  {
   "cell_type": "code",
   "execution_count": null,
   "metadata": {},
   "outputs": [],
   "source": []
  }
 ],
 "metadata": {
  "kernelspec": {
   "display_name": "Python 3",
   "language": "python",
   "name": "python3"
  },
  "language_info": {
   "codemirror_mode": {
    "name": "ipython",
    "version": 3
   },
   "file_extension": ".py",
   "mimetype": "text/x-python",
   "name": "python",
   "nbconvert_exporter": "python",
   "pygments_lexer": "ipython3",
   "version": "3.7.3"
  }
 },
 "nbformat": 4,
 "nbformat_minor": 2
}
