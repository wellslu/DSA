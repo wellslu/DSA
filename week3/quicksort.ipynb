{
 "cells": [
  {
   "cell_type": "markdown",
   "metadata": {},
   "source": [
    "# quicksort:\n",
    "* 先找數列中的一個數當基準點，再以數列中其他數與之做比大小，小的放到左邊、大的到右邊。\n",
    "* 再對左右邊的數列做相同的動作，直到最後左右邊的數列個剩一個數。"
   ]
  },
  {
   "cell_type": "markdown",
   "metadata": {},
   "source": [
    "# 執行困難:\n",
    "* 每次分類結果要回到同一個數列中\n",
    "* 做下一次分類時要如何從數列中判斷上次數列中分得的左右兩邊\n",
    "* 做完分類到最後要如何結束"
   ]
  },
  {
   "cell_type": "code",
   "execution_count": null,
   "metadata": {},
   "outputs": [],
   "source": [
    "def quicksort(x):\n",
    "    #先判斷要分類的數列中，數字有沒有超過兩個\n",
    "    if len(x) >= 2:\n",
    "        #以數列中第0個數當pivot，由此小的放左邊大的放右邊\n",
    "        left = []\n",
    "        right = []\n",
    "        for i in x[1:]:\n",
    "            if i < x[0]:\n",
    "                left.append(i)\n",
    "            else:\n",
    "                right.append(i)\n",
    "        #放完後將數列重整，並將左右兩邊的數列重複跑分類一次\n",
    "        return quicksort(left)+[x[0]]+quicksort(right)\n",
    "    #到最後數列只剩一個數的話會在這邊停下，並丟出最後一個數\n",
    "    else:\n",
    "        return x"
   ]
  },
  {
   "cell_type": "code",
   "execution_count": 2,
   "metadata": {},
   "outputs": [],
   "source": [
    "nums=[3,6,3,4,6,8,9,1,2,7,5]"
   ]
  },
  {
   "cell_type": "code",
   "execution_count": 3,
   "metadata": {},
   "outputs": [
    {
     "data": {
      "text/plain": [
       "[1, 2, 3, 3, 4, 5, 6, 6, 7, 8, 9]"
      ]
     },
     "execution_count": 3,
     "metadata": {},
     "output_type": "execute_result"
    }
   ],
   "source": [
    "quicksort(nums)"
   ]
  },
  {
   "cell_type": "code",
   "execution_count": null,
   "metadata": {},
   "outputs": [],
   "source": []
  }
 ],
 "metadata": {
  "kernelspec": {
   "display_name": "Python 3",
   "language": "python",
   "name": "python3"
  },
  "language_info": {
   "codemirror_mode": {
    "name": "ipython",
    "version": 3
   },
   "file_extension": ".py",
   "mimetype": "text/x-python",
   "name": "python",
   "nbconvert_exporter": "python",
   "pygments_lexer": "ipython3",
   "version": "3.7.3"
  }
 },
 "nbformat": 4,
 "nbformat_minor": 2
}
