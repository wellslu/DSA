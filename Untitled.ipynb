{
 "cells": [
  {
   "cell_type": "code",
   "execution_count": 130,
   "metadata": {},
   "outputs": [],
   "source": [
    "# Definition for a binary tree node.\n",
    "class TreeNode(object):\n",
    "    def __init__(self, x):\n",
    "        self.val = x\n",
    "        self.left = None\n",
    "        self.right = None\n",
    "\n",
    "#        :type val: int\n",
    "#        :type left: TreeNode or None\n",
    "#        :type right: TreeNode or None\n",
    "       \n",
    "class Solution(object):\n",
    "    def __init__(self):\n",
    "        self.sear = None\n",
    "        self.node = None\n",
    "        self.target = None\n",
    "        self.count = 0\n",
    "        self.tree = 0\n",
    "    def insert(self, root, val):\n",
    "        \"\"\"\n",
    "        :type root: TreeNode\n",
    "        :type val: int\n",
    "        :rtype: TreeNode(inserted node)\n",
    "        \"\"\"\n",
    "        if root.val == None:\n",
    "            root(val)\n",
    "        else:\n",
    "            if val <= root.val:\n",
    "                if root.left == None:\n",
    "                    root.left = TreeNode(val)\n",
    "                    self.node = root.left\n",
    "                else:\n",
    "                    self.insert(root.left, val)\n",
    "            else:\n",
    "                if root.right == None:\n",
    "                    root.right = TreeNode(val)\n",
    "                    self.node = root.right\n",
    "                else:\n",
    "                    self.insert(root.right, val)\n",
    "            return self.node\n",
    "    def change(self,root):\n",
    "        if root.right == None and root.left == None:\n",
    "            return None\n",
    "        elif root.right != None and root.left != None:\n",
    "            j = root.left\n",
    "            while j.right != None:\n",
    "                j = j.right\n",
    "            root.val = j.val\n",
    "            root.left = self.delete(root.left,root.val)\n",
    "            return root\n",
    "        elif root.right != None and root.left == None:\n",
    "            j = root.right\n",
    "            while j.left != None:\n",
    "                j = j.left\n",
    "            root.val = j.val\n",
    "            root.right = self.delete(root.right,root.val)\n",
    "            return root\n",
    "        elif root.right == None and root.left != None:\n",
    "            j = root.left\n",
    "            while j.right != None:\n",
    "                j = j.right\n",
    "            root.val = j.val\n",
    "            root.left = self.delete(root.left,root.val)\n",
    "            return root\n",
    "    def delete(self, root, target):\n",
    "        \"\"\"\n",
    "        :type root: TreeNode\n",
    "        :type target: int\n",
    "        :rtype: None Do not return anything, delete nodes(maybe more than more) instead.(cannot search())\n",
    "        \"\"\" \n",
    "        if self.target == None:\n",
    "            self.target = target\n",
    "        if target < root.val:\n",
    "            if root.left == None:\n",
    "                return\n",
    "            else:\n",
    "                root.left = self.delete(root.left, target)\n",
    "                return root\n",
    "        elif target > root.val:\n",
    "            if root.right == None:\n",
    "                return\n",
    "            else:\n",
    "                root.right = self.delete(root.right, target)\n",
    "                return root\n",
    "        elif root.val == target:\n",
    "            root = self.change(root)\n",
    "            if root != None and root.val == self.target:\n",
    "                root = self.change(root)\n",
    "            return root\n",
    "        \n",
    "    def search(self, root, target):\n",
    "        \"\"\"\n",
    "        :type root: TreeNode\n",
    "        :type target: int\n",
    "        :rtype: TreeNode(searched node)\n",
    "        \"\"\"\n",
    "        if target < root.val:\n",
    "            if root.left == None:\n",
    "                self.sear = None\n",
    "            else:\n",
    "                self.search(root.left, target)\n",
    "        elif target > root.val:\n",
    "            if root.right == None:\n",
    "                self.sear = None\n",
    "            else:\n",
    "                self.search(root.right, target)\n",
    "        elif target == root.val:\n",
    "            self.sear = root\n",
    "        return self.sear\n",
    "    \n",
    "    def count_target(self, root, target):\n",
    "        while root != None:\n",
    "            if root.val == target:\n",
    "                self.count+=1\n",
    "                root = root.left\n",
    "            elif root.val < target:\n",
    "                root = root.right\n",
    "            elif root.val > target:\n",
    "                root = root.left\n",
    "    def tree_high(self, root, high):\n",
    "        if root.right != None:\n",
    "            r = high + 1\n",
    "            r = self.tree_high(root.right, r)\n",
    "        if root.left != None:\n",
    "            l = high + 1\n",
    "            l = self.tree_high(root.left, l)\n",
    "        if l>=r:\n",
    "            return l\n",
    "        elif l<r:\n",
    "            return r\n",
    "    def modify(self, root, target, new_val):\n",
    "        \"\"\"\n",
    "        :type root: TreeNode\n",
    "        :type target: int\n",
    "        :type new_val: int\n",
    "        :rtype: None Do not return anything, modify nodes(maybe more than more) in-place instead.(cannot search())\n",
    "        \"\"\"\n",
    "        if root != None:\n",
    "            self.tree = self.tree_high(root, 1)\n",
    "        self.count_target(root,target)\n",
    "        self.delete(root,target)\n",
    "#         for i in range(self.count):\n",
    "            "
   ]
  },
  {
   "cell_type": "code",
   "execution_count": 131,
   "metadata": {},
   "outputs": [],
   "source": [
    "root=TreeNode(5)"
   ]
  },
  {
   "cell_type": "code",
   "execution_count": 132,
   "metadata": {},
   "outputs": [
    {
     "data": {
      "text/plain": [
       "<__main__.TreeNode at 0x22ca03ad278>"
      ]
     },
     "execution_count": 132,
     "metadata": {},
     "output_type": "execute_result"
    }
   ],
   "source": [
    "Solution().insert(root,3)\n",
    "\n",
    "Solution().insert(root,8)\n",
    "\n",
    "Solution().insert(root,7)\n",
    "\n",
    "Solution().insert(root,9)\n",
    "\n",
    "Solution().insert(root,10)\n",
    "\n",
    "Solution().insert(root,6)\n",
    "\n",
    "Solution().insert(root,8)\n",
    "Solution().insert(root,7)\n",
    "Solution().insert(root,8)"
   ]
  },
  {
   "cell_type": "code",
   "execution_count": 133,
   "metadata": {},
   "outputs": [
    {
     "data": {
      "text/plain": [
       "0"
      ]
     },
     "execution_count": 133,
     "metadata": {},
     "output_type": "execute_result"
    }
   ],
   "source": [
    "Solution().tree_high(root,0)"
   ]
  },
  {
   "cell_type": "code",
   "execution_count": 121,
   "metadata": {},
   "outputs": [
    {
     "data": {
      "text/plain": [
       "0"
      ]
     },
     "execution_count": 121,
     "metadata": {},
     "output_type": "execute_result"
    }
   ],
   "source": [
    "Solution().count_target(root,2)"
   ]
  },
  {
   "cell_type": "code",
   "execution_count": 39,
   "metadata": {},
   "outputs": [
    {
     "data": {
      "text/plain": [
       "7"
      ]
     },
     "execution_count": 39,
     "metadata": {},
     "output_type": "execute_result"
    }
   ],
   "source": [
    "root.right.left.val#7"
   ]
  },
  {
   "cell_type": "code",
   "execution_count": 41,
   "metadata": {},
   "outputs": [
    {
     "data": {
      "text/plain": [
       "<__main__.TreeNode at 0x22ca02e33c8>"
      ]
     },
     "execution_count": 41,
     "metadata": {},
     "output_type": "execute_result"
    }
   ],
   "source": [
    "Solution().delete(root,7)"
   ]
  },
  {
   "cell_type": "code",
   "execution_count": 42,
   "metadata": {},
   "outputs": [
    {
     "data": {
      "text/plain": [
       "6"
      ]
     },
     "execution_count": 42,
     "metadata": {},
     "output_type": "execute_result"
    }
   ],
   "source": [
    "root.right.val#6"
   ]
  },
  {
   "cell_type": "code",
   "execution_count": 8,
   "metadata": {},
   "outputs": [
    {
     "data": {
      "text/plain": [
       "<__main__.TreeNode at 0x22ca025cbe0>"
      ]
     },
     "execution_count": 8,
     "metadata": {},
     "output_type": "execute_result"
    }
   ],
   "source": [
    "Solution().search(root,6)"
   ]
  },
  {
   "cell_type": "code",
   "execution_count": 9,
   "metadata": {},
   "outputs": [],
   "source": [
    "root = TreeNode(5)\n",
    "Solution().insert(root, 3)\n",
    "Solution().insert(root, 3)\n",
    "Solution().insert(root, -5)\n",
    "Solution().insert(root, 8)\n",
    "Solution().insert(root, 7)\n",
    "Solution().insert(root, 10)\n",
    "Solution().insert(root, 6)\n",
    "\n",
    "import copy\n",
    "\n",
    "root1 = copy.deepcopy(root)\n",
    "root2 = copy.deepcopy(root)\n",
    "root3 = copy.deepcopy(root)\n",
    "root4 = copy.deepcopy(root)"
   ]
  },
  {
   "cell_type": "code",
   "execution_count": 10,
   "metadata": {},
   "outputs": [
    {
     "name": "stdout",
     "output_type": "stream",
     "text": [
      "insert\n",
      "True\n",
      "-----------------------------------\n"
     ]
    }
   ],
   "source": [
    "print('insert')\n",
    "print(Solution().insert(root1, 4) == root1.left.right)\n",
    "print('-----------------------------------')"
   ]
  },
  {
   "cell_type": "code",
   "execution_count": 11,
   "metadata": {},
   "outputs": [
    {
     "name": "stdout",
     "output_type": "stream",
     "text": [
      "search\n",
      "True\n",
      "-----------------------------------\n"
     ]
    }
   ],
   "source": [
    "print('search')\n",
    "print(Solution().search(root3, 10) == root3.right.right)\n",
    "print('-----------------------------------')"
   ]
  },
  {
   "cell_type": "code",
   "execution_count": null,
   "metadata": {},
   "outputs": [],
   "source": []
  }
 ],
 "metadata": {
  "kernelspec": {
   "display_name": "Python 3",
   "language": "python",
   "name": "python3"
  },
  "language_info": {
   "codemirror_mode": {
    "name": "ipython",
    "version": 3
   },
   "file_extension": ".py",
   "mimetype": "text/x-python",
   "name": "python",
   "nbconvert_exporter": "python",
   "pygments_lexer": "ipython3",
   "version": "3.7.3"
  }
 },
 "nbformat": 4,
 "nbformat_minor": 2
}
